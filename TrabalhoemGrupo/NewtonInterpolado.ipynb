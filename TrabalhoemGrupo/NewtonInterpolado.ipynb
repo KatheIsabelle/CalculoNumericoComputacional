{
 "cells": [
  {
   "cell_type": "code",
   "execution_count": null,
   "metadata": {},
   "outputs": [],
   "source": [
    "#BIBLIOTECAS\n",
    "import math as m\n",
    "import numpy as np\n",
    "from numpy import *\n",
    "from sympy import *\n",
    "import matplotlib.pyplot as plt"
   ]
  },
  {
   "cell_type": "code",
   "execution_count": null,
   "metadata": {},
   "outputs": [],
   "source": [
    "vet_X = [0.0, 0.5, 1.0, 1.5, 2.0, 2.5]\n",
    "fx_Y = [23.0, 21.2, 19.4, 17.8, 16.4, 15.2]\n",
    "degree = 2\n",
    "value = 1.2\n",
    "p = 0.001"
   ]
  },
  {
   "cell_type": "code",
   "execution_count": null,
   "metadata": {},
   "outputs": [],
   "source": [
    "def metNewton(vet_X,fx_Y,degree,value,p):\n",
    "  i=0\n",
    "  p_n=0\n",
    "  sum=1\n",
    "  x = Symbol('x') \n",
    "\n",
    "  #matriz onde é salvo os valores de d\n",
    "  d = np.zeros((len(vet_X),degree))\n",
    "\n",
    "\n",
    "  if degree < len(vet_X):\n",
    "    while i < degree + 1:\n",
    "      if i == 0:\n",
    "        d[0,i] = fx_Y[i]\n",
    "        p_n = fx_Y[i]\n",
    "      else:\n",
    "        #adiciona 1 em j cada vez que entro em uma nova ordem \n",
    "        j = i-1\n",
    "\n",
    "        #realiza os calculos do valor d até a ordem desejada\n",
    "        while j < degree:\n",
    "          if i == 1:\n",
    "            d[i,j] = (fx_Y[j+1] - fx_Y[j])/(vet_X[j+1]-vet_X[j])\n",
    "          elif i != 0:\n",
    "            d[i,j] = (d[i-1,j] - d[i-1,j-1])/(vet_X[i]-vet_X[0])\n",
    "          j = j + 1\n",
    "      #calcula p\n",
    "      if i >= 1:\n",
    "        sum = sum * (x-vet_X[i-1])\n",
    "        p_n = p_n + d[i,i-1]*sum\n",
    "      i = i + 1\n",
    "\n",
    "    #print(\"\\nP\",degree,\"(x) = \", p_n)\n",
    "    #print(\"O valor P_n(\", value, \") =\", round(p_n.subs(x,value),p))\n",
    "    return round(p_n.subs(x,value),p)\n",
    "  else:\n",
    "    print(\"\\nPolinomio de grau \", degree, \"nao pode ser alcancado\")"
   ]
  },
  {
   "cell_type": "code",
   "execution_count": null,
   "metadata": {},
   "outputs": [],
   "source": [
    "plt.plot(vet_X, fx_Y)\n",
    "plt.title('Gráfico de Temperatura conhecido')\n",
    "plt.xlabel('Posição X na placa')\n",
    "plt.ylabel('Temperatura')\n",
    "plt.grid()\n",
    "plt.show()\n",
    "\n",
    "x_arr = [3.0, 3.5, 4.0, 4.5, 5.0, 5.5, 6.0, 6.5, 7.0, 7.5]\n",
    "y_arr = [metNewton(vet_X, fx_Y, degree, i, 5) for i in x_arr]\n",
    "\n",
    "plt.plot(x_arr, y_arr)\n",
    "plt.title('Gráfico de Temperatura estimado')\n",
    "plt.xlabel('Posição X na placa')\n",
    "plt.ylabel('Temperatura')\n",
    "plt.grid()\n",
    "plt.show()"
   ]
  }
 ],
 "metadata": {
  "language_info": {
   "name": "python"
  }
 },
 "nbformat": 4,
 "nbformat_minor": 2
}
