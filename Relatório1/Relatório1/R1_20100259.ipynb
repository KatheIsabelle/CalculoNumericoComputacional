{
 "cells": [
  {
   "cell_type": "markdown",
   "metadata": {},
   "source": [
    "**UNIVERSIDADE FEDERAL DE PELOTAS - CDTEC ENGENHARIA DE COMPUTAÇÃO**\n",
    "_____________________________________________________________\n",
    "RELATÓRIO 1 - CÁLCULO NUMÉRICO COMPUTACIONAL\n",
    "\n",
    "TEMA: \"Resolução Numérica de Equações Algébricas e Transcendentes\"\n",
    "\n",
    "KATHE BESERRA ENGENHARIA DE COMPUTAÇÃO"
   ]
  },
  {
   "cell_type": "code",
   "execution_count": 1,
   "metadata": {},
   "outputs": [],
   "source": [
    "#BIBLIOTECAS\n",
    "import numpy as np\n",
    "import math as m\n",
    "import matplotlib.pyplot as plt"
   ]
  },
  {
   "cell_type": "code",
   "execution_count": 2,
   "metadata": {},
   "outputs": [],
   "source": [
    "# MÉTODO DA BISSECAO\n",
    "def bissecao (f, a, b, p, count):\n",
    "  if f(a)*f(b) < 0:\n",
    "    while (m.fabs(b-a)/2 > p):\n",
    "      xi = (a+b)/2\n",
    "      count = count + 1\n",
    "      if f(xi) == 0:\n",
    "        print(\"A raiz da equação:\", xi)\n",
    "        break\n",
    "      else:\n",
    "        if f(a)*f(xi) < 0:\n",
    "          b = xi\n",
    "        else:\n",
    "          a = xi\n",
    "         \n",
    "      print(\"A raiz da equação:\", xi)\n",
    "\n",
    "  else:\n",
    "    print(\"Não há raiz nesse intervalo\")\n",
    "    \n",
    "  \n",
    "  print(\"Número de interações\", count)"
   ]
  },
  {
   "cell_type": "code",
   "execution_count": 3,
   "metadata": {},
   "outputs": [],
   "source": [
    "# MÉTODO NEWTON-RAPHSON\n",
    "def NewtonRaphson(f ,f_line, x, i, p):\n",
    "  count =1\n",
    "  if abs(f(x)) < p:\n",
    "    return\n",
    "\n",
    "  while True:\n",
    "      x1 = x - f(x)/f_line(x)\n",
    "    \n",
    "      if (abs(f(x)) < p or count == i):\n",
    "        print(\"------- NEWTON RAPHSON -------\")\n",
    "        print(\"interacoes: \", count)\n",
    "        print(\"valor de x: \", round(x,len(str(p))-2))\n",
    "        return x\n",
    "        break\n",
    "      else:\n",
    "        x = x1\n",
    "      count = count +1"
   ]
  },
  {
   "cell_type": "code",
   "execution_count": 4,
   "metadata": {},
   "outputs": [],
   "source": [
    "# MÉTODO SECANTE\n",
    "def Secante(f, x_0, x_1, i, p):\n",
    "      count=1\n",
    "      while True:\n",
    "        x = x_1 - ((f(x_1)*(x_1-x_0))/(f(x_1)-f(x_0)))\n",
    "        \n",
    "        if abs((f(x)) or abs(x-x_1)) < p or count == i:\n",
    "          print(\"------- MET SECANTE -------\")\n",
    "          print(\"Interacoes: \", count)\n",
    "          print(\"O resultado de x: \", round(x,len(str(p))-2))\n",
    "          return x\n",
    "          #break\n",
    "        else:\n",
    "          x_0 = x_1\n",
    "          x_1 = x\n",
    "\n",
    "        count = count + 1"
   ]
  },
  {
   "cell_type": "code",
   "execution_count": 5,
   "metadata": {},
   "outputs": [],
   "source": [
    "# MÉTODO DA FALSA POSIÇÃO\n",
    "def FalsaPosicao(f, a, b, i, p):\n",
    "  if(f(a)*f(b) < 0):\n",
    "    \n",
    "    if (b-a < p):\n",
    "      x = (b+a)/2\n",
    "      return\n",
    "    else:\n",
    "      k = 1\n",
    "\n",
    "    while True:\n",
    "      x = (a*f(b)-b*f(a))/(f(b)-f(a))\n",
    "      \n",
    "      if (f(a)*f(x) > 0):\n",
    "        a = x\n",
    "      else:\n",
    "        b = x\n",
    "\n",
    "      k = k+1\n",
    "\n",
    "      if ( (abs(f(x)) < p) or ( (k-1) == i) ):\n",
    "        print(\"------- FALSA POSIÇÃO -------\")\n",
    "        print(\"n Interacoes:\", k-1) \n",
    "        print(\"valor de x:\", round(x,len(str(p))-2))\n",
    "        return x\n",
    "        break\n",
    "    else:\n",
    "      print(\"Nao foi possivel calcular\")\n",
    "         "
   ]
  },
  {
   "cell_type": "code",
   "execution_count": 6,
   "metadata": {},
   "outputs": [
    {
     "name": "stdout",
     "output_type": "stream",
     "text": [
      "A raiz da equação: 1.0\n",
      "A raiz da equação: 0.5\n",
      "A raiz da equação: 0.75\n",
      "A raiz da equação: 0.625\n",
      "A raiz da equação: 0.5625\n",
      "A raiz da equação: 0.59375\n",
      "A raiz da equação: 0.609375\n",
      "A raiz da equação: 0.6171875\n",
      "A raiz da equação: 0.61328125\n",
      "A raiz da equação: 0.615234375\n",
      "Número de interações 10\n"
     ]
    }
   ],
   "source": [
    "#FUNÇÃO QUESTÃO 01\n",
    "f = lambda x: 0.5 - x + 0.2 * m.sin(x)\n",
    "\n",
    "# DADOS DO PROBLEMA\n",
    "a = 0.0\n",
    "b = 2.0\n",
    "p = 0.001\n",
    "E = 0.2\n",
    "M = 0.5\n",
    "count = 0\n",
    "\n",
    "bissecao (f, 0, 2, 0.001, count)      #QUESTÃO 01 OK"
   ]
  },
  {
   "cell_type": "code",
   "execution_count": 7,
   "metadata": {},
   "outputs": [
    {
     "name": "stdout",
     "output_type": "stream",
     "text": [
      "------- NEWTON RAPHSON -------\n",
      "interacoes:  5\n",
      "valor de x:  -0.4\n"
     ]
    },
    {
     "data": {
      "text/plain": [
       "-0.4000000658024373"
      ]
     },
     "execution_count": 7,
     "metadata": {},
     "output_type": "execute_result"
    }
   ],
   "source": [
    "# FUNÇÃO  QUESTÃO O2:\n",
    "f_x = lambda x: 1000*x**5 - 3*x + 9.04\n",
    "f_line = lambda x:  5000*x**4 - 3\n",
    "\n",
    "NewtonRaphson (f_x, f_line, -0.5, 50, 0.001)"
   ]
  },
  {
   "cell_type": "code",
   "execution_count": 8,
   "metadata": {},
   "outputs": [
    {
     "name": "stdout",
     "output_type": "stream",
     "text": [
      "Não há raiz nesse intervalo\n",
      "Número de interações 0\n"
     ]
    }
   ],
   "source": [
    "# FUNÇÃO QUESTÃO 03:\n",
    "f_x3 = lambda x: 10-15*(m.e**-0.1*x - m.e**-0.5*x)\n",
    "\n",
    "bissecao (f_x3, -1.0, 1.0, 0.001, count) "
   ]
  },
  {
   "cell_type": "code",
   "execution_count": 9,
   "metadata": {},
   "outputs": [
    {
     "data": {
      "image/png": "[encoded data removed]",
      "text/plain": [
       "<Figure size 640x480 with 1 Axes>"
      ]
     },
     "metadata": {},
     "output_type": "display_data"
    }
   ],
   "source": [
    "# FUNÇÃO QUESTÃO 04:\n",
    "f_x4 = lambda x: 2*x**4+4*x**3+3*x**2 -10*x-15\n",
    "f_x4_line = lambda x: 8*x**3 + 12*x**2 + 6*x - 10\n",
    "\n",
    "# GRAFICAMENTE LETRA A \n",
    "start = 0.5\n",
    "end = 2\n",
    "dots = 100\n",
    "\n",
    "line = np.linspace (start, end, dots)\n",
    "values = [f_x4(value) for value in line]\n",
    "\n",
    "plt.plot (line, values, linestyle = '-')\n",
    "plt.xlabel ('x')\n",
    "plt.ylabel ('f(x)')\n",
    "plt.title ('GRÁFICO f(x) = 2x^4 + 4x^3+ 3x^2 -10x -15')\n",
    "plt.grid()\n",
    "plt.show()"
   ]
  },
  {
   "cell_type": "code",
   "execution_count": 10,
   "metadata": {},
   "outputs": [
    {
     "name": "stdout",
     "output_type": "stream",
     "text": [
      "A raiz da equação: 1.5\n",
      "A raiz da equação: 0.75\n",
      "A raiz da equação: 1.125\n",
      "A raiz da equação: 1.3125\n",
      "A raiz da equação: 1.40625\n",
      "A raiz da equação: 1.453125\n",
      "A raiz da equação: 1.4765625\n",
      "A raiz da equação: 1.48828125\n",
      "A raiz da equação: 1.494140625\n",
      "A raiz da equação: 1.4912109375\n",
      "A raiz da equação: 1.49267578125\n",
      "A raiz da equação: 1.493408203125\n",
      "A raiz da equação: 1.4930419921875\n",
      "A raiz da equação: 1.49285888671875\n",
      "A raiz da equação: 1.492950439453125\n",
      "A raiz da equação: 1.4929046630859375\n",
      "A raiz da equação: 1.4928817749023438\n",
      "A raiz da equação: 1.4928703308105469\n",
      "A raiz da equação: 1.4928760528564453\n",
      "A raiz da equação: 1.4928789138793945\n",
      "A raiz da equação: 1.49287748336792\n",
      "A raiz da equação: 1.4928781986236572\n",
      "A raiz da equação: 1.4928785562515259\n",
      "A raiz da equação: 1.4928787350654602\n",
      "A raiz da equação: 1.492878645658493\n",
      "A raiz da equação: 1.4928786903619766\n",
      "A raiz da equação: 1.4928787127137184\n",
      "A raiz da equação: 1.4928787015378475\n",
      "A raiz da equação: 1.492878707125783\n",
      "A raiz da equação: 1.4928787099197507\n",
      "A raiz da equação: 1.4928787085227668\n",
      "A raiz da equação: 1.4928787092212588\n",
      "A raiz da equação: 1.4928787088720128\n",
      "A raiz da equação: 1.4928787086973898\n",
      "Número de interações 34\n"
     ]
    }
   ],
   "source": [
    "# LETRA B: USANDO BISSEÇÃO\n",
    "bissecao (f_x4, 0, 3.0, 1e-10, count)"
   ]
  },
  {
   "cell_type": "code",
   "execution_count": 11,
   "metadata": {},
   "outputs": [
    {
     "name": "stdout",
     "output_type": "stream",
     "text": [
      "------- FALSA POSIÇÃO -------\n",
      "n Interacoes: 78\n",
      "valor de x: 1.493\n"
     ]
    },
    {
     "data": {
      "text/plain": [
       "1.492878708662261"
      ]
     },
     "execution_count": 11,
     "metadata": {},
     "output_type": "execute_result"
    }
   ],
   "source": [
    "# LETRA C: USANDO FALSA POSIÇÃO\n",
    "FalsaPosicao(f_x4, 0, 3.0, 100, 1e-10)"
   ]
  },
  {
   "cell_type": "code",
   "execution_count": 12,
   "metadata": {},
   "outputs": [
    {
     "name": "stdout",
     "output_type": "stream",
     "text": [
      "------- NEWTON RAPHSON -------\n",
      "interacoes:  8\n",
      "valor de x:  1.493\n"
     ]
    },
    {
     "data": {
      "text/plain": [
       "1.4928787086636037"
      ]
     },
     "execution_count": 12,
     "metadata": {},
     "output_type": "execute_result"
    }
   ],
   "source": [
    "# LETRA D: USANDO NEWTONRAPHSON\n",
    "NewtonRaphson(f_x4 , f_x4_line, 3.0, 100, 1e-10)"
   ]
  },
  {
   "cell_type": "code",
   "execution_count": 13,
   "metadata": {},
   "outputs": [
    {
     "name": "stdout",
     "output_type": "stream",
     "text": [
      "------- MET SECANTE -------\n",
      "Interacoes:  10\n",
      "O resultado de x:  -1.3\n"
     ]
    },
    {
     "data": {
      "text/plain": [
       "-1.300384132642908"
      ]
     },
     "execution_count": 13,
     "metadata": {},
     "output_type": "execute_result"
    }
   ],
   "source": [
    "# LETRA E: USANDO MÉTODO SECANTE \n",
    "Secante(f_x4, 0, 3, 100, 1e-10)"
   ]
  },
  {
   "cell_type": "code",
   "execution_count": 15,
   "metadata": {},
   "outputs": [
    {
     "data": {
      "image/png": "[encoded data removed]",
      "text/plain": [
       "<Figure size 640x480 with 1 Axes>"
      ]
     },
     "metadata": {},
     "output_type": "display_data"
    }
   ],
   "source": [
    "# QUESTÃO 5\n",
    "f_x5 = lambda x: m.sin(x) * x + 4\n",
    "f_x5_line = lambda x: m.cos(x)*x + m.sin(x)\n",
    "\n",
    "# GRAFICAMENTE LETRA A\n",
    "start = 0.5\n",
    "end = 2\n",
    "dots = 100\n",
    "\n",
    "line = np.linspace(start, end, dots)\n",
    "values = [f_x5(value) for value in line]\n",
    "\n",
    "plt.plot(line, values, linestyle = '-')\n",
    "plt.xlabel('x')\n",
    "plt.ylabel('f(x)')\n",
    "plt.title('GRÁFICO f(x) = sen(x)x + 4 ')\n",
    "plt.grid()\n",
    "plt.show()"
   ]
  },
  {
   "cell_type": "code",
   "execution_count": 16,
   "metadata": {},
   "outputs": [
    {
     "name": "stdout",
     "output_type": "stream",
     "text": [
      "A raiz da equação: 3.0\n",
      "A raiz da equação: 4.0\n",
      "A raiz da equação: 4.5\n",
      "A raiz da equação: 4.25\n",
      "A raiz da equação: 4.375\n",
      "A raiz da equação: 4.3125\n",
      "A raiz da equação: 4.34375\n",
      "A raiz da equação: 4.328125\n",
      "A raiz da equação: 4.3203125\n",
      "A raiz da equação: 4.32421875\n",
      "A raiz da equação: 4.322265625\n",
      "A raiz da equação: 4.3232421875\n",
      "A raiz da equação: 4.32275390625\n",
      "A raiz da equação: 4.322998046875\n",
      "A raiz da equação: 4.3231201171875\n",
      "A raiz da equação: 4.32318115234375\n",
      "A raiz da equação: 4.323211669921875\n",
      "A raiz da equação: 4.3232269287109375\n",
      "A raiz da equação: 4.323234558105469\n",
      "A raiz da equação: 4.323238372802734\n",
      "A raiz da equação: 4.323240280151367\n",
      "A raiz da equação: 4.323239326477051\n",
      "A raiz da equação: 4.323239803314209\n",
      "A raiz da equação: 4.32323956489563\n",
      "A raiz da equação: 4.32323944568634\n",
      "A raiz da equação: 4.323239505290985\n",
      "A raiz da equação: 4.3232395350933075\n",
      "A raiz da equação: 4.323239549994469\n",
      "A raiz da equação: 4.323239542543888\n",
      "A raiz da equação: 4.323239546269178\n",
      "A raiz da equação: 4.323239544406533\n",
      "A raiz da equação: 4.323239543475211\n",
      "A raiz da equação: 4.323239543940872\n",
      "A raiz da equação: 4.323239543708041\n",
      "A raiz da equação: 4.323239543824457\n",
      "Número de interações 35\n"
     ]
    }
   ],
   "source": [
    "# LETRA B: USANDO BISSEÇÃO\n",
    "bissecao (f_x5, 1, 5.0, 1e-10, count)"
   ]
  },
  {
   "cell_type": "code",
   "execution_count": 18,
   "metadata": {},
   "outputs": [
    {
     "name": "stdout",
     "output_type": "stream",
     "text": [
      "------- FALSA POSIÇÃO -------\n",
      "n Interacoes: 9\n",
      "valor de x: 4.323\n"
     ]
    },
    {
     "data": {
      "text/plain": [
       "4.323239543733132"
      ]
     },
     "execution_count": 18,
     "metadata": {},
     "output_type": "execute_result"
    }
   ],
   "source": [
    "# LETRA C: USANDO FALSA POSIÇÃO\n",
    "FalsaPosicao(f_x5, 1, 5.0, 100, 1e-10)"
   ]
  },
  {
   "cell_type": "code",
   "execution_count": 17,
   "metadata": {},
   "outputs": [
    {
     "name": "stdout",
     "output_type": "stream",
     "text": [
      "------- NEWTON RAPHSON -------\n",
      "interacoes:  8\n",
      "valor de x:  -5.461\n"
     ]
    },
    {
     "data": {
      "text/plain": [
       "-5.461308012589076"
      ]
     },
     "execution_count": 17,
     "metadata": {},
     "output_type": "execute_result"
    }
   ],
   "source": [
    "# LETRA D: USANDO NEWTONRAPHSON\n",
    "NewtonRaphson(f_x5 , f_x5_line, 1.0, 100, 1e-10)"
   ]
  },
  {
   "cell_type": "code",
   "execution_count": 19,
   "metadata": {},
   "outputs": [
    {
     "name": "stdout",
     "output_type": "stream",
     "text": [
      "------- MET SECANTE -------\n",
      "Interacoes:  7\n",
      "O resultado de x:  4.323\n"
     ]
    },
    {
     "data": {
      "text/plain": [
       "4.323239543713651"
      ]
     },
     "execution_count": 19,
     "metadata": {},
     "output_type": "execute_result"
    }
   ],
   "source": [
    "# LETRA E: USANDO MÉTODO SECANTE \n",
    "Secante(f_x5, 0, 5, 100, 1e-10)\n",
    "\n",
    "# LETRA F:\n",
    "#O método que se apresentou mais rápido foi o da SECANTE, possuindo apenas 7 interações para chegar no resultado final."
   ]
  }
 ],
 "metadata": {
  "kernelspec": {
   "display_name": "Python 3",
   "language": "python",
   "name": "python3"
  },
  "language_info": {
   "codemirror_mode": {
    "name": "ipython",
    "version": 3
   },
   "file_extension": ".py",
   "mimetype": "text/x-python",
   "name": "python",
   "nbconvert_exporter": "python",
   "pygments_lexer": "ipython3",
   "version": "3.12.3"
  }
 },
 "nbformat": 4,
 "nbformat_minor": 2
}
