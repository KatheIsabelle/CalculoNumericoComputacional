{
 "cells": [
  {
   "cell_type": "markdown",
   "metadata": {},
   "source": [
    "# RELATÓRIO 4 - Diferenciação e Integração Numérica\n",
    "___________________________________________________\n",
    "\n",
    "KATHE BESERRA: CDTEC - Engenharia de Computação"
   ]
  },
  {
   "cell_type": "code",
   "execution_count": null,
   "metadata": {},
   "outputs": [],
   "source": [
    "import numpy as np\n",
    "from numpy import linalg\n",
    "import pandas as pd\n",
    "import matplotlib.pyplot as plt\n",
    "import math as math\n",
    "import scipy as scipy"
   ]
  },
  {
   "cell_type": "code",
   "execution_count": null,
   "metadata": {},
   "outputs": [],
   "source": [
    "#Trapezio\n",
    "def metTrapezioM(f,a,b,n, h):\n",
    "  h = (b-a)/n\n",
    "  for i in range(n):\n",
    "    if i == 0:\n",
    "       sum = f(0)\n",
    "    else:\n",
    "      sum  = sum + (2 *f(((a + h*i)))) \n",
    "  sum = sum + f(h*n)\n",
    "  Trapm = (h/2)*sum\n",
    "\n",
    "  return Trapm"
   ]
  },
  {
   "cell_type": "code",
   "execution_count": null,
   "metadata": {},
   "outputs": [],
   "source": [
    "#Simpson 1/3\n",
    "def metSimp13M(f,a,b,n, h):\n",
    "  h= (b-a)/n\n",
    "  sum = f(0)\n",
    "  for i in range(1,n):\n",
    "    if i%2 == 0:\n",
    "      sum = sum + 2*f((a+h*i))\n",
    "    else:\n",
    "      sum = sum + 4*f((a+h*i))\n",
    "    \n",
    "  sum = sum + f(h*n)\n",
    "  Simp13 = h*sum/3\n",
    "\n",
    "  return Simp13"
   ]
  },
  {
   "cell_type": "code",
   "execution_count": null,
   "metadata": {},
   "outputs": [],
   "source": [
    "#Simpson 3/8\n",
    "def simpson38(f, a, b, n, h):\n",
    "  if h == -1:\n",
    "    h = (b - a) / n\n",
    "  sum = f(a) + f(b)\n",
    "  for i in range(1,n):\n",
    "    x = a + i*h\n",
    "    if i%3 == 0:\n",
    "      sum = sum + 2 * f(x)\n",
    "    else:\n",
    "      sum = sum + 3 * f(x)\n",
    "  resultado = sum * 3 * h / 8\n",
    "  return resultado"
   ]
  },
  {
   "cell_type": "code",
   "execution_count": null,
   "metadata": {},
   "outputs": [],
   "source": [
    "# Euler\n",
    "def metEuler(f, x0, y0, h, xf):\n",
    "  x = np.arange(x0, xf+h, h)\n",
    "  y = np.zeros_like(x)\n",
    "  y[0] = y0\n",
    "  n = len(x)\n",
    "  for i in range(n-1):\n",
    "    y[i+1] = y[i] + h * f(x[i], y[i])\n",
    "  return x,y"
   ]
  },
  {
   "cell_type": "code",
   "execution_count": null,
   "metadata": {},
   "outputs": [],
   "source": [
    "def metRK4(f, x0, y0, h, xf):\n",
    "  x = np.arange(x0, xf+h, h)\n",
    "  y = np.zeros_like(x)\n",
    "  y[0] = y0\n",
    "  n = len(x)\n",
    "\n",
    "  for i in range(n-1):\n",
    "    k1 = h * f(x[i], y[i])\n",
    "    k2 = h * f(x[i] + h/2, y[i] + k1/2)\n",
    "    k3 = h * f(x[i] + h/2, y[i] + k2/2)\n",
    "    k4 = h * f(x[i] + h, y[i] + k3)\n",
    "    y[i+1] = y[i] + (k1 + 2*k2 + 2*k3 + k4)/6\n",
    "\n",
    "  return x, y"
   ]
  },
  {
   "cell_type": "code",
   "execution_count": null,
   "metadata": {},
   "outputs": [],
   "source": [
    "# PARA X = [0,2.5,5,15,20,25,30]\n",
    "# PARA F(X) = [0,7,9,14,10.5,12,5]\n",
    "# PARA θx = [0.5,0.9,1.4,0.9,1.3,1.48,1.5]\n",
    "\n",
    "F = lambda x: np.interp(x, [0, 2.5, 5, 15, 20, 25, 30], [0, 7, 9, 14, 10.5, 12, 5])\n",
    "theta = lambda x: np.interp(x, [0, 2.5, 5, 15, 20, 25, 30], [0.5, 0.9, 1.4, 0.9, 1.3, 1.48, 1.5])\n",
    "f0 = lambda x: F(x)*np.cos(theta(x))\n",
    "\n",
    "r1 = metSimp13M(f0,0,5,2,2.5)\n",
    "r2 = metTrapezioM(f0,5,15,1,10)\n",
    "r3 = simpson38(f0,15,30,3,5)\n",
    "print(\"SOLUÇÃO SIMPSON 1/3: \",r1)\n",
    "print(\"SOLUÇÃO TRAPÉZIO: \",r2)\n",
    "print(\"SOLUÇÃO SIMPSON 3/8: \",r3)\n",
    "\n",
    "print(\"\\nRESULTADO: \", r1+r2+r3)"
   ]
  },
  {
   "cell_type": "code",
   "execution_count": null,
   "metadata": {},
   "outputs": [],
   "source": [
    "f1 = lambda x,y: x**2 + y**2 \n",
    "x0 = 0\n",
    "y0 = 0            \n",
    "h = 0.1           \n",
    "xf = 0.5\n",
    "\n",
    "x, y = metEuler(f1,x0,y0,h,xf)\n",
    "\n",
    "print(\"SOLUÇÃO EULER:\")\n",
    "print(\"y(0.5) =\", y[-1])\n",
    "\n",
    "plt.plot(x, y, label='EULER', color='#FF0000')\n",
    "plt.legend()\n",
    "plt.xlabel('X')\n",
    "plt.ylabel('Y')\n",
    "plt.show()"
   ]
  },
  {
   "cell_type": "code",
   "execution_count": null,
   "metadata": {},
   "outputs": [],
   "source": [
    "f1 = lambda x,y: x**2 + y**2\n",
    "x0 = 0\n",
    "y0 = 0\n",
    "h = 0.1\n",
    "xf = 0.5\n",
    "\n",
    "x, y = metRK4(f1,x0,y0,h,xf)\n",
    "\n",
    "print(\"SOLUÇÃO metRK4:\")\n",
    "print(\"y(0.5) =\", y[-1])\n",
    "plt.plot(x, y, label='metRK4', color='#FF0000')\n",
    "plt.legend()\n",
    "plt.xlabel('X')\n",
    "plt.ylabel('Y')\n",
    "plt.show()"
   ]
  },
  {
   "cell_type": "code",
   "execution_count": null,
   "metadata": {},
   "outputs": [],
   "source": [
    "f1 = lambda x,y: x+y\n",
    "x0 = 0\n",
    "y0 = 1\n",
    "h = 0.1\n",
    "xf = 0.2\n",
    "\n",
    "x, y = metRK4(f1,x0,y0,h,xf)\n",
    "\n",
    "print(\"SSOLUÇÃO metRK4:\")\n",
    "print(\"y(0.1) =\", y[-1])\n",
    "plt.plot(x, y, label='metRK4', color='#FF0000')\n",
    "plt.legend()\n",
    "plt.xlabel('X')\n",
    "plt.ylabel('Y')\n",
    "plt.show()"
   ]
  },
  {
   "cell_type": "code",
   "execution_count": null,
   "metadata": {},
   "outputs": [],
   "source": [
    "# UTILIZANDO H = 0.2\n",
    "f1 = lambda x,y: x+y\n",
    "x0 = 0\n",
    "y0 = 1\n",
    "h = 0.2\n",
    "xf = 0.2\n",
    "\n",
    "x, y = metRK4(f1,x0,y0,h,xf)\n",
    "\n",
    "print(\"SOLUÇÃO metRK4:\")\n",
    "print(\"y(0.2) =\", y[-1])\n",
    "plt.plot(x, y, label='metRK4', color='#FF0000')\n",
    "plt.legend()\n",
    "plt.xlabel('x')\n",
    "plt.ylabel('y')\n",
    "plt.show()"
   ]
  },
  {
   "cell_type": "markdown",
   "metadata": {},
   "source": [
    "**LETRA B - COMPARAÇÃO** \n",
    "\n",
    "A solução exata para o problema em questão é **0.0625**. É importante destacar que há diferenças entre os valores obtidos pelos métodos de Euler e de metRK4 em relação à solução exata. Isso ocorre porque eles utilizam ordens de convergência diferentes, sendo que o método de Euler é de primeira ordem, enquanto o método de metRK4 é de quarta ordem. Conforme pode ser observado pelos resultados, o método de metRK4 apresentou-se mais próximo da solução exata, o que pode ser explicado pela sua maior ordem de convergência em relação ao método de Euler. Dessa forma, é possível concluir que o método de metRK4 é mais preciso e proporciona resultados mais próximos à solução exata do que o método de Euler."
   ]
  },
  {
   "cell_type": "markdown",
   "metadata": {},
   "source": [
    "A solução exata para o problema em questão é de aproximadamente **1.2191**. Em termos teóricos, se aumentássemos o valor de h, ou seja, diminuíssemos a quantidade de pontos de integração, seria esperado que o resultado se tornasse menos preciso, uma vez que o método estaria calculando a solução em menos pontos. Entretanto, é importante destacar que, ao contrário do que se esperava, isso não aconteceu.\n",
    "\n",
    ".\n",
    "\n",
    "Ao analisarmos os resultados obtidos com os valores de h igual a **0.1 e 0.2**, é possível verificar que para h igual a 0.1, o resultado foi de y = 1.3997, enquanto que para h igual a 0.2, o resultado foi de **y = 1.2428**. Esses resultados mostram que, ao aumentar o valor de h, em vez de diminuir a precisão, houve um aumento no valor da solução. Isso pode ser explicado pelo fato de que o método está calculando a solução em menos pontos, o que reduz o tempo necessário para a computação dos resultados, mas também pode levar a um aumento na margem de erro. \n",
    "\n",
    ".\n",
    "\n",
    "Dessa forma, é importante destacar que a escolha do valor de h é crucial para a precisão da solução obtida, uma vez que valores muito altos podem resultar em uma diminuição da precisão, enquanto valores muito baixos podem aumentar significativamente o tempo de processamento necessário para a obtenção dos resultados."
   ]
  }
 ],
 "metadata": {
  "language_info": {
   "name": "python"
  }
 },
 "nbformat": 4,
 "nbformat_minor": 2
}
